{
 "cells": [
  {
   "cell_type": "code",
   "execution_count": 52,
   "metadata": {},
   "outputs": [],
   "source": [
    "# Install required libs\n",
    "# !python -m pip install --user numpy scipy matplotlib ipython jupyter segmentation-models-pytorch albumentations opencv-python tqdm natsort Pillow"
   ]
  },
  {
   "cell_type": "markdown",
   "metadata": {},
   "source": [
    "## Loading data"
   ]
  },
  {
   "cell_type": "code",
   "execution_count": 53,
   "metadata": {},
   "outputs": [],
   "source": [
    "import os\n",
    "os.environ['CUDA_VISIBLE_DEVICES'] = '0'\n",
    "\n",
    "import numpy as np\n",
    "import cv2\n",
    "import matplotlib.pyplot as plt"
   ]
  },
  {
   "cell_type": "code",
   "execution_count": 55,
   "metadata": {},
   "outputs": [],
   "source": [
    "# helper function for data visualization\n",
    "def visualize(**images):\n",
    "    \"\"\"PLot images in one row.\"\"\"\n",
    "    n = len(images)\n",
    "    plt.figure(figsize=(16, 5))\n",
    "    for i, (name, image) in enumerate(images.items()):\n",
    "        plt.subplot(1, n, i + 1)\n",
    "        plt.xticks([])\n",
    "        plt.yticks([])\n",
    "        plt.title(' '.join(name.split('_')).title())\n",
    "        plt.imshow(image)\n",
    "    plt.show()"
   ]
  },
  {
   "cell_type": "code",
   "execution_count": null,
   "metadata": {},
   "outputs": [],
   "source": [
    "from tqdm import tqdm\n",
    "from natsort import natsorted\n",
    "from functools import reduce\n",
    "from PIL import Image\n",
    "#  0: Background 1: Cap/hat 2: Helmet 3: Face 4: Hair 5: Left-arm 6: Right-arm 7: Left-hand 8: Right-hand 9: Protector \n",
    "# 10: Bikini/bra 11: Jacket/windbreaker/hoodie 12: Tee-shirt 13: Polo-shirt 14: Sweater 15: Singlet 16: Torso-skin \n",
    "# 17: Pants 18: Shorts/swim-shorts 19: Skirt 20: Stockings 21: Socks 22: Left-boot 23: Right-boot 24: Left-shoe \n",
    "# 25: Right-shoe 26: Left-highheel 27: Right-highheel 28: Left-sandal 29: Right-sandal 30: Left-leg 31: Right-leg \n",
    "# 32: Left-foot 33: Right-foot 34: Coat 35: Dress 36: Robe 37: Jumpsuit 38: Other-full-body-clothes 39: Headwear \n",
    "# 40: Backpack 41: Ball 42: Bats 43: Belt 44: Bottle 45: Carrybag 46: Cases 47: Sunglasses 48: Eyewear 49: Glove \n",
    "# 50:Scarf 51: Umbrella 52: Wallet/purse 53: Watch 54: Wristband 55: Tie 56: Other-accessary \n",
    "# 57: Other-upper-body-clothes 58: Other-lower-body-clothes\n",
    "\n",
    "CLASS_LABEL = 0 # Label to extract from dataset\n",
    "\n",
    "def get_fp_infos(mask_fp):\n",
    "    mask_id = os.path.basename(mask_fp)\n",
    "    return tuple(mask_id.split(\".\")[0].split(\"_\"))\n",
    "\n",
    "def create_dict(masks_dir):\n",
    "    masks_ids = natsorted(os.listdir(masks_dir))\n",
    "    masks_fps = [os.path.join(masks_dir, mask_id) for mask_id in masks_ids]\n",
    "\n",
    "    dict = {}\n",
    "    for fp in masks_fps:\n",
    "        (id, max, current) = get_fp_infos(fp)\n",
    "        if id not in dict:\n",
    "            dict[id] = []\n",
    "        dict[id].append(fp)\n",
    "    return dict\n",
    "\n",
    "def convert_masks(masks_dir, save_dir):\n",
    "    fps_dict = create_dict(masks_dir)\n",
    "    for key in tqdm(fps_dict.keys(), desc=\"Converting mask files\"):   \n",
    "        if not os.path.exists(save_dir + key + \".png\"):\n",
    "            # Every image file has multiple corresponding mask files, one for every person in the image\n",
    "            # The class labels correspond to the red values \n",
    "            masks = [np.array(Image.open(value)) for value in fps_dict[key]] # Add all mask files to one array\n",
    "            if all(mask.ndim == 3 for mask in masks):\n",
    "                if key > 1:\n",
    "                    break\n",
    "                mask = reduce(lambda array_a, array_b: array_a | array_b, masks) # Create union of all masks\n",
    "                binary_mask = np.where(mask[:,:,0] == CLASS_LABEL, 0, 1) # Create binary mask of red channel\n",
    "                mask[:,:,0] = binary_mask # Replace first channel with binary mask\n",
    "\n",
    "                # im = Image.fromarray(mask)\n",
    "                # im.save(save_dir + key + \".png\")\n",
    "\n",
    "            else:\n",
    "                print(save_dir + key + \".png\")\n",
    "\n",
    "# convert_masks(\"data/LV-MHP-v2/train/parsing_annos/\", \"data/LV-MHP-v2-augmented/train/parsing_annos/\")\n",
    "# convert_masks(\"data/LV-MHP-v2/val/parsing_annos/\", \"data/LV-MHP-v2-augmented/val/parsing_annos/\")\n"
   ]
  }
 ],
 "metadata": {
  "interpreter": {
   "hash": "74022aae890ba747b3a4262e7e8e47cd7ef92a3925bdc86f96fbcbbd0ea6874b"
  },
  "kernelspec": {
   "display_name": "Python 3.9.5 64-bit ('base': conda)",
   "name": "python3"
  },
  "language_info": {
   "codemirror_mode": {
    "name": "ipython",
    "version": 3
   },
   "file_extension": ".py",
   "mimetype": "text/x-python",
   "name": "python",
   "nbconvert_exporter": "python",
   "pygments_lexer": "ipython3",
   "version": "3.9.5"
  }
 },
 "nbformat": 4,
 "nbformat_minor": 4
}
