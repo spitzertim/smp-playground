{
 "cells": [
  {
   "cell_type": "markdown",
   "metadata": {
    "gradient": {
     "editing": false,
     "id": "6a12fa50-7cd5-441f-8d2b-9af484c2c694",
     "kernelId": "709bc842-7e85-4e5e-9216-b915878d5888"
    }
   },
   "source": [
    "### Install dependencies"
   ]
  },
  {
   "cell_type": "code",
   "execution_count": null,
   "metadata": {
    "collapsed": false,
    "gradient": {
     "editing": false,
     "id": "ad73196f-18ea-4f61-91d3-369dba3e2aee",
     "kernelId": "709bc842-7e85-4e5e-9216-b915878d5888",
     "source_hidden": false
    },
    "jupyter": {
     "outputs_hidden": false
    }
   },
   "outputs": [],
   "source": [
    "# Install required libs\n",
    "\n",
    "### PAPERSPACE ONLY ###\n",
    "!apt-get update && ln -snf /usr/share/zoneinfo/Europe/Berlin /etc/localtime && DEBIAN_FRONTEND=noninteractive apt-get install -y tzdata\n",
    "!apt-get install ffmpeg libsm6 libxext6 -y \n",
    "### PAPERSPACE ONLY END ###\n",
    "\n",
    "!python -m pip install --user tensorboard numpy matplotlib ipython ipykernel jupyter segmentation-models-pytorch albumentations opencv-python tqdm natsort scikit-image ipywidgets"
   ]
  },
  {
   "cell_type": "code",
   "execution_count": null,
   "metadata": {
    "gradient": {
     "editing": false,
     "id": "937c2067-794b-4e23-8cd6-9fa33350f19c",
     "kernelId": "709bc842-7e85-4e5e-9216-b915878d5888"
    }
   },
   "outputs": [],
   "source": [
    "from torchvision.datasets import VOCSegmentation\n",
    "import os\n",
    "import numbers\n",
    "import numpy as np\n",
    "import cv2\n",
    "import matplotlib.pyplot as plt\n",
    "import torch\n",
    "from torch.utils.data import DataLoader\n",
    "from torch.utils.tensorboard import SummaryWriter\n",
    "from torch.utils.data import Dataset as BaseDataset\n",
    "import segmentation_models_pytorch as smp\n",
    "from natsort import natsorted\n",
    "from functools import reduce\n",
    "from skimage import io\n",
    "import albumentations as albu\n",
    "import numpy as np\n",
    "from tqdm import tqdm\n",
    "from timeit import default_timer as timer"
   ]
  },
  {
   "cell_type": "code",
   "execution_count": null,
   "metadata": {
    "gradient": {
     "editing": false,
     "id": "b286ff3d-19be-4033-8cd2-8a8b04df14da",
     "kernelId": "709bc842-7e85-4e5e-9216-b915878d5888"
    }
   },
   "outputs": [],
   "source": [
    "writer = SummaryWriter()\n",
    "log_dir_name = writer.get_logdir()\n",
    "\n",
    "DEVICE = \"cuda\" if torch.cuda.is_available() else \"cpu\"\n",
    "NUM_WORKERS = 8 if torch.cuda.is_available() else 0\n",
    "print(\"Using {} device\".format(DEVICE))\n",
    "print(\"Using {} workers\".format(NUM_WORKERS))"
   ]
  },
  {
   "cell_type": "markdown",
   "metadata": {
    "gradient": {
     "editing": false,
     "id": "cfb01df7-8c39-4025-a452-a1aad9808949",
     "kernelId": "709bc842-7e85-4e5e-9216-b915878d5888"
    }
   },
   "source": [
    "### MHP dataset link"
   ]
  },
  {
   "cell_type": "code",
   "execution_count": null,
   "metadata": {
    "gradient": {
     "editing": false,
     "id": "8732b2aa-a675-4de6-b7c4-b8f5f5f4aa46",
     "kernelId": "709bc842-7e85-4e5e-9216-b915878d5888"
    }
   },
   "outputs": [],
   "source": [
    "# Download LV-MHP-v2 manually and extract to data dir\n",
    "# https://drive.google.com/file/d/1YVBGMru0dlwB8zu1OoErOazZoc8ISSJn/\n",
    "\n",
    "# Voc will be downloaded later"
   ]
  },
  {
   "cell_type": "markdown",
   "metadata": {
    "gradient": {
     "editing": false,
     "id": "628cabce-91f2-4249-809f-e709bba9195f",
     "kernelId": "709bc842-7e85-4e5e-9216-b915878d5888"
    }
   },
   "source": [
    "# Helper functions"
   ]
  },
  {
   "cell_type": "code",
   "execution_count": null,
   "metadata": {
    "gradient": {
     "editing": false,
     "id": "7cd6d359-349d-4726-9561-a2c1b4807b49",
     "kernelId": "709bc842-7e85-4e5e-9216-b915878d5888"
    }
   },
   "outputs": [],
   "source": [
    "def verify_image(img_file):\n",
    "    try:\n",
    "        img = io.imread(img_file)\n",
    "    except:\n",
    "        return False\n",
    "    return True\n",
    "\n",
    "def get_mask_fp_infos(mask_fp):\n",
    "    id, num_persons, curr_person = os.path.basename(mask_fp).split(\".\")[0].split(\"_\")\n",
    "    return int(id), int(num_persons), int(curr_person)\n",
    "\n",
    "def visualize(**images):\n",
    "    \"\"\"PLot images in one row.\"\"\"\n",
    "    n = len(images)\n",
    "    plt.figure(figsize=(16, 5))\n",
    "    for i, (name, image) in enumerate(images.items()):\n",
    "        plt.subplot(1, n, i + 1)\n",
    "        plt.xticks([])\n",
    "        plt.yticks([])\n",
    "        plt.title(' '.join(name.split('_')).title())\n",
    "        plt.imshow(image)\n",
    "    plt.show()\n"
   ]
  },
  {
   "cell_type": "markdown",
   "metadata": {
    "gradient": {
     "editing": false,
     "id": "5bceaacd-3463-47cd-8529-790758966b7b",
     "kernelId": "709bc842-7e85-4e5e-9216-b915878d5888"
    }
   },
   "source": [
    "# Dataloaders\n"
   ]
  },
  {
   "cell_type": "markdown",
   "metadata": {
    "gradient": {
     "editing": false,
     "id": "912d83c2-bd4c-4ed7-8d3b-980339313146",
     "kernelId": "709bc842-7e85-4e5e-9216-b915878d5888"
    }
   },
   "source": [
    "MHP"
   ]
  },
  {
   "cell_type": "code",
   "execution_count": null,
   "metadata": {
    "gradient": {
     "editing": false,
     "id": "8650bc1c-1026-4fa5-af44-647343d26150",
     "kernelId": "709bc842-7e85-4e5e-9216-b915878d5888"
    }
   },
   "outputs": [],
   "source": [
    "class Dataset(BaseDataset):\n",
    "    \"\"\"MHP v2 Dataset. Read images, apply augmentation and preprocessing transformations.\n",
    "    \n",
    "    Args:\n",
    "        images_dir (str): path to images folder\n",
    "        masks_dir (str): path to segmentation masks folder\n",
    "        class_values (list): values of classes to extract from segmentation mask\n",
    "        augmentation (albumentations.Compose): data transfromation pipeline \n",
    "            (e.g. flip, scale, etc.)\n",
    "        preprocessing (albumentations.Compose): data preprocessing \n",
    "            (e.g. noralization, shape manipulation, etc.)\n",
    "    \n",
    "    \"\"\"\n",
    "    CLASS_LABELS = [\n",
    "        \"Background\", \"Cap/hat\",\"Helmet\", \"Face\", \"Hair\", \"Left-arm\", \"Right-arm\", \"Left-hand\", \"Right-hand\", \"Protector\", \n",
    "        \"Bikini/bra\", \"Jacket/windbreaker/hoodie\", \"Tee-shirt\", \"Polo-shirt\", \"Sweater\", \"Singlet\", \"Torso-skin\", \n",
    "        \"Pants\", \"Shorts/swim-shorts\", \"Skirt\", \"Stockings\", \"Socks\", \"Left-boot\", \"Right-boot\", \"Left-shoe\",\n",
    "        \"Right-shoe\", \"Left-highheel\", \"Right-highheel\", \"Left-sandal\", \"Right-sandal\", \"Left-leg\", \"Right-leg\",\n",
    "        \"Left-foot\", \"Right-foot\", \"Coat\", \"Dress\", \"Robe\", \"Jumpsuit\" , \"Other-full-body-clothes\" , \"Headwear\",\n",
    "        \"Backpack\", \"Ball\", \"Bats\", \"Belt\", \"Bottle\", \"Carrybag\", \"Cases\", \"Sunglasses\", \"Eyewear\", \"Glove\",\n",
    "        \"Scarf\", \"Umbrella\",\" Wallet/purse\", \"Watch\", \"Wristband\", \"Tie\",\" Other-accessary\", \n",
    "        \"Other-upper-body-clothes\", \"Other-lower-body-clothes\"\n",
    "        ]\n",
    "\n",
    "    def __init__(self, size, classes=None, augmentation=None, preprocessing=None):\n",
    "        images_dir = \"data/LV-MHP-v2/train/images/\"\n",
    "        masks_dir = \"data/LV-MHP-v2/train/parsing_annos/\"\n",
    "        self.images_ids = natsorted(os.listdir(images_dir))[0:size]\n",
    "        self.images_fps = [os.path.join(images_dir, image_id) for image_id in self.images_ids]\n",
    "        self.masks_ids = natsorted(os.listdir(masks_dir))\n",
    "        self.masks_fps = [os.path.join(masks_dir, mask_id) for mask_id in self.masks_ids]\n",
    "    \n",
    "        # convert str names to class values on masks\n",
    "        self.class_indices = [self.CLASS_LABELS.index(cls) for cls in classes]\n",
    "\n",
    "        self.augmentation = augmentation\n",
    "        self.preprocessing = preprocessing\n",
    "    \n",
    "    def __getitem__(self, i):\n",
    "        if verify_image(self.images_fps[i]):\n",
    "            # read image\n",
    "            image = cv2.imread(self.images_fps[i])\n",
    "        else:\n",
    "            image = cv2.imread(self.images_fps[i-1])\n",
    "        image = cv2.cvtColor(image, cv2.COLOR_BGR2RGB)\n",
    "        \n",
    "        # combine mask files\n",
    "        mask_files_per_image = []\n",
    "        for el in self.masks_fps:\n",
    "            mask_id = int(get_mask_fp_infos(el)[0]) \n",
    "            img_id = int(self.images_ids[i].split(\".\")[0])\n",
    "            if(mask_id == img_id):\n",
    "                mask_files_per_image.append(el)\n",
    "        \n",
    "        mask_files = []\n",
    "        for file in mask_files_per_image:\n",
    "            mask_file = cv2.imread(file)\n",
    "            if mask_file.ndim == 3:\n",
    "                mask_file = cv2.cvtColor(mask_file, cv2.COLOR_BGR2RGB)\n",
    "                mask_file = mask_file[:,:,0]\n",
    "                mask_files.append(mask_file)\n",
    "        # Create union of all mask files\n",
    "        combined_file = reduce(lambda array_a, array_b: array_a | array_b, mask_files)\n",
    "\n",
    "         # extract certain classes from mask (e.g. cars)\n",
    "        masks = [(combined_file == label_index) for label_index in self.class_indices]\n",
    "        mask = reduce(lambda array_a, array_b: array_a | array_b, masks)\n",
    "        if self.class_indices == [0]:\n",
    "            mask = np.invert(mask)\n",
    "        mask = mask[:,:, np.newaxis]\n",
    "        mask = mask.astype('float')\n",
    "\n",
    "        # apply augmentations\n",
    "        if self.augmentation:\n",
    "            sample = self.augmentation(image=image, mask=mask, combined_file=combined_file)\n",
    "            image, mask = sample['image'], sample['mask']\n",
    "        \n",
    "        # # apply preprocessing\n",
    "        if self.preprocessing:\n",
    "            sample = self.preprocessing(image=image, mask=mask)\n",
    "            image, mask = sample['image'], sample['mask']\n",
    "            \n",
    "        return image, mask\n",
    "        \n",
    "    def __len__(self):\n",
    "        return len(self.images_ids)"
   ]
  },
  {
   "cell_type": "code",
   "execution_count": null,
   "metadata": {
    "gradient": {
     "editing": false,
     "id": "eb954368-aa6f-4f7c-984a-3e50b34c10f5",
     "kernelId": "709bc842-7e85-4e5e-9216-b915878d5888"
    }
   },
   "outputs": [],
   "source": [
    "dataset = Dataset(size=2000, classes=['Background'])\n",
    "\n",
    "example_image, example_mask = dataset[0] # get some sample\n",
    "\n",
    "visualize(\n",
    "    image=example_image, \n",
    "    mask=example_mask,\n",
    ")"
   ]
  },
  {
   "cell_type": "markdown",
   "metadata": {
    "gradient": {
     "editing": false,
     "id": "620375d4-8e00-4b1b-b2d2-9fa4aac4e9b9",
     "kernelId": "709bc842-7e85-4e5e-9216-b915878d5888"
    }
   },
   "source": [
    "VOC Dataloader"
   ]
  },
  {
   "cell_type": "code",
   "execution_count": null,
   "metadata": {
    "gradient": {
     "editing": false,
     "id": "811c0667-14ec-4241-a1d1-2327674d790c",
     "kernelId": "709bc842-7e85-4e5e-9216-b915878d5888"
    }
   },
   "outputs": [],
   "source": [
    "VOC_CLASSES = [\n",
    "    \"background\", \"aeroplane\", \"bicycle\", \"bird\", \"boat\", \"bottle\", \"bus\", \"car\", \n",
    "    \"cat\", \"chair\", \"cow\", \"diningtable\", \"dog\", \"horse\", \"motorbike\", \n",
    "    \"person\", \"potted plant\", \"sheep\", \"sofa\", \"train\", \"tv/monitor\",\n",
    "]\n",
    "\n",
    "VOC_COLORMAP = [\n",
    "    [0, 0, 0], [128, 0, 0], [0, 128, 0], [128, 128, 0], [0, 0, 128], [128, 0, 128], [0, 128, 128], [128, 128, 128], \n",
    "    [64, 0, 0], [192, 0, 0], [64, 128, 0], [192, 128, 0], [64, 0, 128], [192, 0, 128], [64, 128, 128], \n",
    "    [192, 128, 128], [0, 64, 0], [128, 64, 0], [0, 192, 0], [128, 192, 0], [0, 64, 128],\n",
    "]"
   ]
  },
  {
   "cell_type": "code",
   "execution_count": null,
   "metadata": {
    "gradient": {
     "editing": false,
     "id": "2d6f1210-0d44-4127-88f8-727e4b0fa52f",
     "kernelId": "709bc842-7e85-4e5e-9216-b915878d5888"
    }
   },
   "outputs": [],
   "source": [
    "class TransformedVOC(VOCSegmentation):\n",
    "    # def __init__(self, augmentation=None, preprocessing=None, classes=VOC_CLASSES):\n",
    "    def __init__(self, root, image_set, download=False,  augmentation=None, preprocessing=None):\n",
    "        super(TransformedVOC, self).__init__(root=root, image_set=image_set, download=download)\n",
    "        # self.classes = classes\n",
    "        self.augmentation = augmentation\n",
    "        self.preprocessing = preprocessing\n",
    "        self.remove_list = []\n",
    "\n",
    "    # @staticmethod\n",
    "    # def _convert_to_segmentation_mask(mask, labels):\n",
    "    #     height, width = mask.shape[:2]\n",
    "    #     segmentation_mask = np.zeros((height, width, len(labels)), dtype=np.float32)\n",
    "    #     for idx, label in enumerate(labels):\n",
    "    #         label_idx = VOC_CLASSES.index(label)\n",
    "    #         label_color = VOC_COLORMAP[label_idx]\n",
    "    #         segmentation_mask[:, :, idx] = np.all(mask == label_color, axis=-1).astype(float)\n",
    "    #     return segmentation_mask\n",
    "\n",
    "    def __getitem__(self, idx):\n",
    "        # image = cv2.imread(self.images[idx])\n",
    "        # image = cv2.cvtColor(image, cv2.COLOR_BGR2RGB)\n",
    "        # mask = cv2.imread(self.masks[idx])\n",
    "        # mask = cv2.cvtColor(mask, cv2.COLOR_BGR2RGB)\n",
    "        # mask = self._convert_to_segmentation_mask(mask, self.classes)\n",
    "\n",
    "        image, mask = super(TransformedVOC, self).__getitem__(idx)\n",
    "        image = np.array(image)\n",
    "        mask = np.array(mask)\n",
    "        mask = mask.astype('float')\n",
    "        mask = np.where(mask==15, 1., 0.)\n",
    "        uniques = np.unique(mask)\n",
    "        if 1. not in uniques:\n",
    "            self.remove_list.append(idx)\n",
    "        mask = mask[:,:,np.newaxis]\n",
    "\n",
    "         # apply augmentations\n",
    "        if self.augmentation:\n",
    "            sample = self.augmentation(image=image, mask=mask)\n",
    "            image, mask = sample['image'], sample['mask']\n",
    "        \n",
    "        # # apply preprocessing\n",
    "        if self.preprocessing:\n",
    "            sample = self.preprocessing(image=image, mask=mask)\n",
    "            image, mask = sample['image'], sample['mask']\n",
    "\n",
    "        return image, mask"
   ]
  },
  {
   "cell_type": "code",
   "execution_count": null,
   "metadata": {
    "gradient": {
     "editing": false,
     "id": "4c22acbe-861f-4428-83f0-d5d7c4c9ab3b",
     "kernelId": "709bc842-7e85-4e5e-9216-b915878d5888"
    }
   },
   "outputs": [],
   "source": [
    "dataset = TransformedVOC(root=\"data/\", image_set=\"trainval\", download=False)\n",
    "\n",
    "example_image, example_mask = dataset[0] # get some sample\n",
    "\n",
    "visualize(\n",
    "    image=example_image, \n",
    "    mask=example_mask,\n",
    ")"
   ]
  },
  {
   "cell_type": "markdown",
   "metadata": {
    "gradient": {
     "editing": false,
     "id": "165d224a-119e-4eb1-a584-80bf98b002b4",
     "kernelId": "709bc842-7e85-4e5e-9216-b915878d5888"
    }
   },
   "source": [
    "VOC Orig Dataloader"
   ]
  },
  {
   "cell_type": "code",
   "execution_count": null,
   "metadata": {
    "gradient": {
     "editing": false,
     "id": "eca3824c-190c-41ac-b0ab-1729848632b4",
     "kernelId": "709bc842-7e85-4e5e-9216-b915878d5888"
    }
   },
   "outputs": [],
   "source": [
    "class VOCOrig(VOCSegmentation):\n",
    "    def __init__(self, root, image_set,  augmentation=None, preprocessing=None, classes=VOC_CLASSES):\n",
    "        super(VOCOrig, self).__init__(root, image_set = image_set)\n",
    "        self.classes = classes\n",
    "        self.augmentation = augmentation\n",
    "        self.preprocessing = preprocessing\n",
    "        \n",
    "    @staticmethod\n",
    "    def _convert_to_segmentation_mask(mask, labels):\n",
    "        height, width = mask.shape[:2]\n",
    "        segmentation_mask = np.zeros((height, width, len(labels)), dtype=np.float32)\n",
    "        for idx, label in enumerate(labels):\n",
    "            label_idx = VOC_CLASSES.index(label)\n",
    "            label_color = VOC_COLORMAP[label_idx]\n",
    "            segmentation_mask[:, :, idx] = np.all(mask == label_color, axis=-1).astype(float)\n",
    "        return segmentation_mask\n",
    "\n",
    "    def __getitem__(self, idx):\n",
    "        image = cv2.imread(self.images[idx])\n",
    "        image = cv2.cvtColor(image, cv2.COLOR_BGR2RGB)\n",
    "        mask = cv2.imread(self.masks[idx])\n",
    "        mask = cv2.cvtColor(mask, cv2.COLOR_BGR2RGB)\n",
    "        mask = self._convert_to_segmentation_mask(mask, self.classes)\n",
    "\n",
    "         # apply augmentations\n",
    "        if self.augmentation:\n",
    "            sample = self.augmentation(image=image, mask=mask)\n",
    "            image, mask = sample['image'], sample['mask']\n",
    "        \n",
    "        # # apply preprocessing\n",
    "        if self.preprocessing:\n",
    "            sample = self.preprocessing(image=image, mask=mask)\n",
    "            image, mask = sample['image'], sample['mask']\n",
    "\n",
    "        return image, mask"
   ]
  },
  {
   "cell_type": "code",
   "execution_count": null,
   "metadata": {
    "gradient": {
     "editing": false,
     "id": "1bab846a-d1b9-411a-8b7e-959285c39a44",
     "kernelId": "709bc842-7e85-4e5e-9216-b915878d5888"
    }
   },
   "outputs": [],
   "source": [
    "dataset = VOCOrig(root=\"data/\", image_set=\"trainval\")\n",
    "\n",
    "example_image, example_mask = dataset[0] # get some sample\n",
    "    \n",
    "visualize(\n",
    "    image=example_image, \n",
    "    mask0=example_mask[:,:,0],\n",
    "    mask1=example_mask[:,:,1],\n",
    "    mask2=example_mask[:,:,2],\n",
    ")"
   ]
  },
  {
   "cell_type": "code",
   "execution_count": null,
   "metadata": {
    "gradient": {
     "editing": false,
     "id": "5e77d301-44ca-49d6-baf6-ab53e3991576",
     "kernelId": "709bc842-7e85-4e5e-9216-b915878d5888"
    }
   },
   "outputs": [],
   "source": [
    "\n",
    "IMG_SIZE = 128"
   ]
  },
  {
   "cell_type": "markdown",
   "metadata": {
    "gradient": {
     "editing": false,
     "id": "9b908534-2d24-4c8c-8af3-850266361200",
     "kernelId": "709bc842-7e85-4e5e-9216-b915878d5888"
    }
   },
   "source": [
    "# Augmentations"
   ]
  },
  {
   "cell_type": "markdown",
   "metadata": {},
   "source": [
    " MHP Augmentations"
   ]
  },
  {
   "cell_type": "code",
   "execution_count": null,
   "metadata": {
    "gradient": {
     "editing": false,
     "id": "a04d708c-5cb8-44fe-91f8-feba06414359",
     "kernelId": "709bc842-7e85-4e5e-9216-b915878d5888"
    }
   },
   "outputs": [],
   "source": [
    "class HeadCrop(object):\n",
    "    \"\"\"Crops the given PIL Image around head region.\"\"\"\n",
    "\n",
    "    def __init__(self, size, offset):\n",
    "        if isinstance(size, numbers.Number):\n",
    "            self.size = (int(size), int(size))\n",
    "        else:\n",
    "            self.size = size\n",
    "        self.offset = offset\n",
    "\n",
    "    def __call__(self, **kwargs):\n",
    "        image = kwargs.get('image', None)\n",
    "        mask = kwargs.get('mask', None)\n",
    "        combined_file = kwargs.get('combined_file', None)\n",
    "        \n",
    "\n",
    "        # Extract head region\n",
    "        head_masks = [(combined_file == label_index) for label_index in [4, 3, 2, 39]]\n",
    "        head_mask = reduce(lambda array_a, array_b: array_a | array_b, head_masks)\n",
    "        # Get coordinates of first head pixel\n",
    "        first_head = np.where(head_mask == True)\n",
    "        row, col = first_head[0][0], first_head[1][0]\n",
    "        x_min = max(0, col - self.size[1] // 2)\n",
    "        y_min = max(0, row + self.offset - self.size[0] // 2)\n",
    "        x_max = x_min + self.size[1]\n",
    "        y_max = y_min + self.size[0]\n",
    "        cropped_image = image[y_min:y_max, x_min:x_max]\n",
    "        cropped_mask = mask[y_min:y_max, x_min:x_max]\n",
    "        return {\"image\": cropped_image, \"mask\": cropped_mask}\n",
    "\n",
    "    def __repr__(self):\n",
    "        return self.__class__.__name__ + '()'\n",
    "\n",
    "class CustomResize(object):\n",
    "    def __init__(self, size):\n",
    "        self.size = size\n",
    "    \n",
    "    def __call__(self, **kwargs):\n",
    "        image = kwargs.get('image', None)\n",
    "        mask = kwargs.get('mask', None)\n",
    "        image = cv2.resize(image, (self.size, self.size), interpolation=cv2.INTER_NEAREST)\n",
    "        mask = cv2.resize(mask, (self.size, self.size), interpolation=cv2.INTER_NEAREST)\n",
    "        return {\"image\": image, \"mask\": mask}\n"
   ]
  },
  {
   "cell_type": "code",
   "execution_count": null,
   "metadata": {
    "gradient": {
     "editing": false,
     "id": "e23ae533-e2ff-473a-bbbb-b438cca17612",
     "kernelId": "709bc842-7e85-4e5e-9216-b915878d5888"
    }
   },
   "outputs": [],
   "source": [
    "def get_training_augmentation():\n",
    "    train_transform = [\n",
    "        HeadCrop((200, 400), 100),\n",
    "        albu.Resize(IMG_SIZE,IMG_SIZE)\n",
    "    ]\n",
    "    return albu.Compose(train_transform)\n",
    "\n",
    "def get_validation_augmentation():\n",
    "    test_transform = [\n",
    "        HeadCrop((200, 400), 100),\n",
    "        albu.Resize(IMG_SIZE,IMG_SIZE)\n",
    "    ]\n",
    "    return albu.Compose(test_transform)"
   ]
  },
  {
   "cell_type": "code",
   "execution_count": null,
   "metadata": {
    "gradient": {
     "editing": false,
     "id": "d1194d75-78fd-4641-9744-67043d7f9f9b",
     "kernelId": "709bc842-7e85-4e5e-9216-b915878d5888"
    }
   },
   "outputs": [],
   "source": [
    "dataset = Dataset(\n",
    "    augmentation=get_training_augmentation(),\n",
    "    size=2000, \n",
    "    classes=['Background'])\n",
    "\n",
    "example_image, example_mask = dataset[0] # get some sample\n",
    "\n",
    "visualize(\n",
    "    image=example_image, \n",
    "    mask=example_mask,\n",
    ")"
   ]
  },
  {
   "cell_type": "markdown",
   "metadata": {
    "gradient": {
     "editing": false,
     "id": "38b1ca13-895a-4683-b91f-ed83ed38c3fb",
     "kernelId": "709bc842-7e85-4e5e-9216-b915878d5888"
    }
   },
   "source": [
    "VOC Augmentations"
   ]
  },
  {
   "cell_type": "code",
   "execution_count": null,
   "metadata": {
    "gradient": {
     "editing": false,
     "id": "5bd06a52-4bfc-4b74-8137-d4a4b8624e90",
     "kernelId": "709bc842-7e85-4e5e-9216-b915878d5888"
    }
   },
   "outputs": [],
   "source": [
    "def get_training_augmentation_voc():\n",
    "    train_transform = [\n",
    "        albu.Resize(IMG_SIZE,IMG_SIZE)\n",
    "    ]\n",
    "    return albu.Compose(train_transform)\n",
    "\n",
    "def get_validation_augmentation_voc():\n",
    "    test_transform = [\n",
    "        albu.Resize(IMG_SIZE,IMG_SIZE)\n",
    "    ]\n",
    "    return albu.Compose(test_transform)"
   ]
  },
  {
   "cell_type": "code",
   "execution_count": null,
   "metadata": {
    "gradient": {
     "editing": false,
     "id": "87026c4d-117b-4884-85a9-70e8078174b1",
     "kernelId": "709bc842-7e85-4e5e-9216-b915878d5888"
    }
   },
   "outputs": [],
   "source": [
    "dataset = TransformedVOC(root=\"data/\", image_set=\"trainval\", download=False, augmentation=get_training_augmentation_voc())\n",
    "\n",
    "example_image, example_mask = dataset[0] # get some sample\n",
    "\n",
    "visualize(\n",
    "    image=example_image, \n",
    "    mask=example_mask,\n",
    ")"
   ]
  },
  {
   "cell_type": "markdown",
   "metadata": {
    "gradient": {
     "editing": false,
     "id": "8e95a31f-b743-4a0f-b13c-4c0c174aa050",
     "kernelId": "709bc842-7e85-4e5e-9216-b915878d5888"
    }
   },
   "source": [
    "VOC Orig Augmentations Vis"
   ]
  },
  {
   "cell_type": "code",
   "execution_count": null,
   "metadata": {
    "gradient": {
     "editing": false,
     "id": "09fc4f0b-5156-480f-b788-f73d58211e43",
     "kernelId": "709bc842-7e85-4e5e-9216-b915878d5888"
    }
   },
   "outputs": [],
   "source": [
    "train_dataset_voc_orig = VOCOrig(\n",
    "    root=\"data/\", \n",
    "    image_set=\"train\", \n",
    "    augmentation=get_training_augmentation_voc(), \n",
    "    )\n",
    "\n",
    "example_image, example_mask = train_dataset_voc_orig[0] # get some sample\n",
    "\n",
    "visualize(\n",
    "    image=example_image, \n",
    "    mask0=example_mask[:,:,0],\n",
    "    mask1=example_mask[:,:,1],\n",
    "    mask2=example_mask[:,:,2],\n",
    ")"
   ]
  },
  {
   "cell_type": "markdown",
   "metadata": {
    "gradient": {
     "editing": false,
     "id": "8bbcf2d4-4156-4550-8b5d-c20b1ff50f5a",
     "kernelId": "709bc842-7e85-4e5e-9216-b915878d5888"
    }
   },
   "source": [
    "### VOC Extended Augmentations"
   ]
  },
  {
   "cell_type": "code",
   "execution_count": null,
   "metadata": {
    "gradient": {
     "editing": false,
     "id": "9903151c-3b5c-4cae-914e-cc52ff21ef50",
     "kernelId": "709bc842-7e85-4e5e-9216-b915878d5888"
    }
   },
   "outputs": [],
   "source": [
    "def get_training_augmentation_voc_ext():\n",
    "    train_transform = [\n",
    "\n",
    "        albu.HorizontalFlip(p=0.5),\n",
    "\n",
    "        albu.ShiftScaleRotate(scale_limit=0.5, rotate_limit=0, shift_limit=0.1, p=1, border_mode=0),\n",
    "\n",
    "        albu.RandomCrop(height=200, width=200, always_apply=True),\n",
    "        albu.Resize(IMG_SIZE,IMG_SIZE),\n",
    "\n",
    "        albu.augmentations.transforms.GaussNoise(p=0.2),\n",
    "        albu.augmentations.geometric.transforms.Perspective(p=0.5),\n",
    "\n",
    "        albu.OneOf(\n",
    "            [\n",
    "                albu.CLAHE(p=1),\n",
    "                albu.RandomBrightnessContrast(p=1),\n",
    "                albu.RandomGamma(p=1),\n",
    "            ],\n",
    "            p=0.9,\n",
    "        ),\n",
    "\n",
    "        albu.OneOf(\n",
    "            [\n",
    "                albu.augmentations.transforms.Sharpen(p=1),\n",
    "                albu.Blur(blur_limit=3, p=1),\n",
    "                albu.MotionBlur(blur_limit=3, p=1),\n",
    "            ],\n",
    "            p=0.9,\n",
    "        ),\n",
    "\n",
    "        albu.OneOf(\n",
    "            [\n",
    "                albu.RandomBrightnessContrast(p=1),\n",
    "                albu.HueSaturationValue(p=1),\n",
    "            ],\n",
    "            p=0.9,\n",
    "        ),\n",
    "    ]\n",
    "    return albu.Compose(train_transform)"
   ]
  },
  {
   "cell_type": "markdown",
   "metadata": {
    "gradient": {
     "editing": false,
     "id": "f6419992-e8c6-4234-815a-38e4332b00a4",
     "kernelId": "709bc842-7e85-4e5e-9216-b915878d5888"
    }
   },
   "source": [
    "#### Preprocessing"
   ]
  },
  {
   "cell_type": "code",
   "execution_count": null,
   "metadata": {
    "gradient": {
     "editing": false,
     "id": "373e6936-f9a5-4d13-88ee-0bf8a3219ce9",
     "kernelId": "709bc842-7e85-4e5e-9216-b915878d5888"
    }
   },
   "outputs": [],
   "source": [
    "def to_tensor(x, **kwargs):\n",
    "    return x.transpose(2, 0, 1).astype('float32')\n",
    "\n",
    "def get_preprocessing(preprocessing_fn):    \n",
    "    _transform = [\n",
    "        albu.Lambda(image=preprocessing_fn),\n",
    "        albu.Lambda(image=to_tensor, mask=to_tensor),\n",
    "    ]\n",
    "    return albu.Compose(_transform)"
   ]
  },
  {
   "cell_type": "markdown",
   "metadata": {
    "gradient": {
     "editing": false,
     "id": "96c4b97e-4c9b-4830-8ad5-f98ffa08718a",
     "kernelId": "709bc842-7e85-4e5e-9216-b915878d5888"
    }
   },
   "source": [
    "### Create models"
   ]
  },
  {
   "cell_type": "code",
   "execution_count": null,
   "metadata": {
    "gradient": {
     "editing": false,
     "id": "7af42c16-51b1-43c3-96ed-8ae0cb6a0e07",
     "kernelId": "709bc842-7e85-4e5e-9216-b915878d5888"
    }
   },
   "outputs": [],
   "source": [
    "ENCODER = 'timm-mobilenetv3_large_100'\n",
    "ENCODER_WEIGHTS = 'imagenet'\n",
    "CLASSES = ['Background']\n",
    "ACTIVATION = 'sigmoid' # could be None for logits or 'softmax2d' for multiclass segmentation\n",
    "\n",
    "models = {}\n",
    "\n",
    "# create segmentation model with pretrained encoder\n",
    "models[\"mhp\"] = smp.DeepLabV3Plus(\n",
    "    encoder_name=ENCODER, \n",
    "    encoder_weights=ENCODER_WEIGHTS, \n",
    "    classes=len(CLASSES), \n",
    "    activation=ACTIVATION,\n",
    ")\n",
    "\n",
    "models[\"mhp\"].to(torch.device(DEVICE))\n",
    "\n",
    "# create segmentation model with pretrained encoder\n",
    "models[\"voc\"] = smp.DeepLabV3(\n",
    "    encoder_name=ENCODER, \n",
    "    encoder_weights=ENCODER_WEIGHTS, \n",
    "    classes=len(CLASSES), \n",
    "    activation=ACTIVATION,\n",
    ")\n",
    "\n",
    "models[\"voc\"].to(torch.device(DEVICE))\n",
    "\n",
    "# create segmentation model with pretrained encoder\n",
    "models[\"voc_orig\"] = smp.DeepLabV3(\n",
    "    encoder_name=ENCODER, \n",
    "    encoder_weights=ENCODER_WEIGHTS, \n",
    "    classes=len(VOC_CLASSES), \n",
    "    activation=ACTIVATION,\n",
    ")\n",
    "\n",
    "models[\"voc_orig\"].to(torch.device(DEVICE))\n",
    "\n",
    "# create segmentation model with pretrained encoder\n",
    "models[\"voc_ext\"] = smp.DeepLabV3(\n",
    "    encoder_name=ENCODER, \n",
    "    encoder_weights=ENCODER_WEIGHTS, \n",
    "    classes=len(CLASSES), \n",
    "    activation=ACTIVATION,\n",
    ")\n",
    "\n",
    "models[\"voc_ext\"].to(torch.device(DEVICE))\n",
    "\n"
   ]
  },
  {
   "cell_type": "markdown",
   "metadata": {
    "gradient": {
     "editing": false,
     "id": "81d28575-495d-4839-ae32-07de80cdc45d",
     "kernelId": "709bc842-7e85-4e5e-9216-b915878d5888"
    }
   },
   "source": [
    "### Load MHP Dataset"
   ]
  },
  {
   "cell_type": "code",
   "execution_count": null,
   "metadata": {
    "collapsed": false,
    "gradient": {
     "editing": false,
     "id": "3453d3c9-235e-439a-8a15-386c2d7f930c",
     "kernelId": "709bc842-7e85-4e5e-9216-b915878d5888"
    },
    "jupyter": {
     "outputs_hidden": false
    },
    "scrolled": true
   },
   "outputs": [],
   "source": [
    "preprocessing_fn = smp.encoders.get_preprocessing_fn(ENCODER, ENCODER_WEIGHTS)\n",
    "\n",
    "full_dataset = Dataset(\n",
    "    #size=15403,\n",
    "    size=3641,\n",
    "    augmentation=get_training_augmentation(), \n",
    "    preprocessing=get_preprocessing(preprocessing_fn), \n",
    "    classes=CLASSES,\n",
    ")\n",
    "\n",
    "\n",
    "full_dataset_size = len(full_dataset)\n",
    "full_dataset_indices = list(range(full_dataset_size))\n",
    "\n",
    "# Shuffle\n",
    "np.random.shuffle(full_dataset_indices)\n",
    "# Rename for readabilty and limit to 3641\n",
    "random_indices = full_dataset_indices[0:3641]\n",
    "random_dataset = torch.utils.data.Subset(full_dataset, random_indices)\n",
    "\n",
    "\n",
    "# Create train (size=1464), valid (size=1449) and test (size=728) split.\n",
    "train_valid_dataset, test_dataset = torch.utils.data.random_split(random_dataset, [2913, 728])\n",
    "train_dataset, valid_dataset = torch.utils.data.random_split(train_valid_dataset, [1464, 1449])\n",
    "\n",
    "\n",
    "train_loader = DataLoader(train_dataset, batch_size=16, shuffle=True, num_workers=NUM_WORKERS)\n",
    "valid_loader = DataLoader(valid_dataset, batch_size=16, shuffle=False, num_workers=NUM_WORKERS)\n"
   ]
  },
  {
   "cell_type": "markdown",
   "metadata": {
    "gradient": {
     "editing": false,
     "id": "d248345f-4d51-48e3-a094-006f113a49a6",
     "kernelId": "709bc842-7e85-4e5e-9216-b915878d5888"
    }
   },
   "source": [
    "### Load VOC Dataset"
   ]
  },
  {
   "cell_type": "code",
   "execution_count": null,
   "metadata": {
    "gradient": {
     "editing": false,
     "id": "61b27fff-f044-467b-bcc9-35d6024b10ed",
     "kernelId": "709bc842-7e85-4e5e-9216-b915878d5888"
    }
   },
   "outputs": [],
   "source": [
    "train_dataset_voc = TransformedVOC(\n",
    "    root=\"data/\", \n",
    "    image_set=\"train\", \n",
    "    augmentation=get_training_augmentation_voc(), \n",
    "    preprocessing=get_preprocessing(preprocessing_fn),\n",
    "    )\n",
    "\n",
    "\n",
    "valid_dataset_voc = TransformedVOC(\n",
    "    root=\"data/\", \n",
    "    image_set=\"val\", \n",
    "    augmentation=get_validation_augmentation_voc(), \n",
    "    preprocessing=get_preprocessing(preprocessing_fn))\n",
    "\n",
    "\n",
    "train_loader_voc = DataLoader(train_dataset_voc, batch_size=16, shuffle=True, num_workers=NUM_WORKERS)\n",
    "valid_loader_voc = DataLoader(valid_dataset_voc, batch_size=16, shuffle=False, num_workers=NUM_WORKERS)\n"
   ]
  },
  {
   "cell_type": "markdown",
   "metadata": {
    "gradient": {
     "editing": false,
     "id": "679be7c3-756a-4af0-a616-a4eab5e578a5",
     "kernelId": "709bc842-7e85-4e5e-9216-b915878d5888"
    }
   },
   "source": [
    "### Load VOC Orig"
   ]
  },
  {
   "cell_type": "code",
   "execution_count": null,
   "metadata": {
    "gradient": {
     "editing": false,
     "id": "0323c0ae-f6cf-4a81-8f50-a9310de90bc3",
     "kernelId": "709bc842-7e85-4e5e-9216-b915878d5888"
    }
   },
   "outputs": [],
   "source": [
    "train_dataset_voc_orig = VOCOrig(\n",
    "    root=\"data/\", \n",
    "    image_set=\"train\", \n",
    "    augmentation=get_training_augmentation_voc(), \n",
    "    preprocessing=get_preprocessing(preprocessing_fn)\n",
    "    )\n",
    "\n",
    "valid_dataset_voc_orig = VOCOrig(\n",
    "    root=\"data/\", \n",
    "    image_set=\"val\", \n",
    "    augmentation=get_validation_augmentation_voc(), \n",
    "    preprocessing=get_preprocessing(preprocessing_fn)\n",
    "    )\n",
    "\n",
    "\n",
    "train_loader_voc_orig = DataLoader(train_dataset_voc_orig, batch_size=16, shuffle=True, num_workers=NUM_WORKERS)\n",
    "valid_loader_voc_orig = DataLoader(valid_dataset_voc_orig, batch_size=16, shuffle=False, num_workers=NUM_WORKERS)\n"
   ]
  },
  {
   "cell_type": "markdown",
   "metadata": {
    "gradient": {
     "editing": false,
     "id": "8a690c84-94a6-4bd9-8675-afac17b2cb61",
     "kernelId": "709bc842-7e85-4e5e-9216-b915878d5888"
    }
   },
   "source": [
    "### Load VOC Extended"
   ]
  },
  {
   "cell_type": "code",
   "execution_count": null,
   "metadata": {
    "gradient": {
     "editing": false,
     "id": "b2e9a4f8-a672-48ee-aae5-ca64ae59d219",
     "kernelId": "709bc842-7e85-4e5e-9216-b915878d5888"
    }
   },
   "outputs": [],
   "source": [
    "file = open('voc_ext_train_idxs.txt', 'r')\n",
    "idxs = [int(i) for i in file.read().splitlines()]\n",
    "\n",
    "# Train Dataset\n",
    "datasets = []\n",
    "for i in range(0,5):\n",
    "    dataset = TransformedVOC(root=\"data/\", image_set=\"train\", download=False, augmentation=get_training_augmentation_voc_ext(), preprocessing=get_preprocessing(preprocessing_fn))\n",
    "    dataset = torch.utils.data.Subset(dataset, idxs)\n",
    "    datasets.append(dataset)\n",
    "    \n",
    "\n",
    "train_dataset_voc_ext_big = torch.utils.data.ConcatDataset(datasets)\n",
    "train_dataset_voc_ext = torch.utils.data.Subset(train_dataset_voc_ext_big, indices = range(0, 1464))\n",
    "\n",
    "# Valid Dataset\n",
    "valid_dataset_voc_ext = TransformedVOC(\n",
    "    root=\"data/\", \n",
    "    image_set=\"val\", \n",
    "    augmentation=get_validation_augmentation_voc(), \n",
    "    preprocessing=get_preprocessing(preprocessing_fn)\n",
    "    )\n",
    "\n",
    "\n",
    "train_loader_voc_ext = DataLoader(train_dataset_voc_ext, batch_size=16, shuffle=True, num_workers=NUM_WORKERS)\n",
    "valid_loader_voc_ext = DataLoader(valid_dataset_voc_ext, batch_size=16, shuffle=False, num_workers=NUM_WORKERS)"
   ]
  },
  {
   "cell_type": "markdown",
   "metadata": {
    "gradient": {
     "editing": false,
     "id": "18914551-6759-4d4d-9ff4-7bc6c2539124",
     "kernelId": "709bc842-7e85-4e5e-9216-b915878d5888"
    }
   },
   "source": [
    "## Training"
   ]
  },
  {
   "cell_type": "markdown",
   "metadata": {
    "gradient": {
     "editing": false,
     "id": "2e4c594f-19bc-4cf0-8219-2055e3dbaed0",
     "kernelId": "709bc842-7e85-4e5e-9216-b915878d5888"
    }
   },
   "source": [
    "### Defining a loss function"
   ]
  },
  {
   "cell_type": "code",
   "execution_count": null,
   "metadata": {
    "gradient": {
     "editing": false,
     "id": "1bba54ef-644f-4645-bcd4-4f4388b31ed6",
     "kernelId": "709bc842-7e85-4e5e-9216-b915878d5888"
    }
   },
   "outputs": [],
   "source": [
    "class FocalTverskyLoss(torch.nn.Module):\n",
    "    __name__ = 'focal_tversky_loss'\n",
    "\n",
    "    def __init__(self, weight=None, size_average=True):\n",
    "        super(FocalTverskyLoss, self).__init__()\n",
    "\n",
    "    def forward(self, inputs, targets, smooth=1, alpha=0.7, beta=0.3, gamma=0.75):\n",
    "        \n",
    "        #comment out if your model contains a sigmoid or equivalent activation layer\n",
    "        # inputs = torch.sigmoid(inputs)       \n",
    "        \n",
    "        #flatten label and prediction tensors\n",
    "        inputs = inputs.view(-1)\n",
    "        targets = targets.view(-1)\n",
    "        \n",
    "        #True Positives, False Positives & False Negatives\n",
    "        TP = (inputs * targets).sum()  \n",
    "        FP = ((1-targets) * inputs).sum()\n",
    "        FN = (targets * (1-inputs)).sum()\n",
    "        \n",
    "        Tversky = (TP + smooth) / (TP + alpha*FP + beta*FN + smooth)  \n",
    "        FocalTversky = (1 - Tversky)**gamma\n",
    "        \n",
    "        return FocalTversky\n"
   ]
  },
  {
   "cell_type": "code",
   "execution_count": null,
   "metadata": {
    "gradient": {
     "editing": false,
     "id": "f67ba408-7111-4dd3-bf6f-574d337cd75b",
     "kernelId": "709bc842-7e85-4e5e-9216-b915878d5888"
    }
   },
   "outputs": [],
   "source": [
    "# loss = smp.utils.losses.DiceLoss()\n",
    "\n",
    "ALPHA = 0.7\n",
    "BETA = 0.3\n",
    "GAMMA = 0.75\n",
    "\n",
    "loss1 = FocalTverskyLoss()\n",
    "loss2 = FocalTverskyLoss()\n",
    "loss3 = FocalTverskyLoss()\n",
    "loss4 = FocalTverskyLoss()\n",
    "\n",
    "metrics1 = [\n",
    "    smp.utils.metrics.IoU(threshold=0.5),\n",
    "]\n",
    "metrics2 = [\n",
    "    smp.utils.metrics.IoU(threshold=0.5),\n",
    "]\n",
    "metrics3 = [\n",
    "    smp.utils.metrics.IoU(threshold=0.5),\n",
    "]\n",
    "metrics4 = [\n",
    "    smp.utils.metrics.IoU(threshold=0.5),\n",
    "]\n",
    "\n",
    "optimizer1 = torch.optim.Adam([ \n",
    "    dict(params=models[\"mhp\"].parameters(), lr=0.0001),\n",
    "])\n",
    "\n",
    "optimizer2 = torch.optim.Adam([ \n",
    "    dict(params=models[\"voc\"].parameters(), lr=0.0001),\n",
    "])\n",
    "\n",
    "optimizer3 = torch.optim.Adam([ \n",
    "    dict(params=models[\"voc_orig\"].parameters(), lr=0.0001),\n",
    "])\n",
    "\n",
    "optimizer4 = torch.optim.Adam([ \n",
    "    dict(params=models[\"voc_ext\"].parameters(), lr=0.0001),\n",
    "])\n"
   ]
  },
  {
   "cell_type": "markdown",
   "metadata": {
    "gradient": {
     "editing": false,
     "id": "ae36e75d-b467-45bb-9472-fe930f232506",
     "kernelId": "709bc842-7e85-4e5e-9216-b915878d5888"
    }
   },
   "source": [
    "### Create epoch runners "
   ]
  },
  {
   "cell_type": "code",
   "execution_count": null,
   "metadata": {
    "gradient": {
     "editing": false,
     "id": "7751d522-e44e-4ae4-8a5d-6f998f86ea1f",
     "kernelId": "709bc842-7e85-4e5e-9216-b915878d5888"
    }
   },
   "outputs": [],
   "source": [
    "# it is a simple loop of iterating over dataloader`s samples\n",
    "train_epoch = smp.utils.train.TrainEpoch(\n",
    "    models[\"mhp\"], \n",
    "    loss=loss1, \n",
    "    metrics=metrics1, \n",
    "    optimizer=optimizer1,\n",
    "    device=DEVICE,\n",
    "    verbose=True,\n",
    ")\n",
    "\n",
    "valid_epoch = smp.utils.train.ValidEpoch(\n",
    "    models[\"mhp\"], \n",
    "    loss=loss1, \n",
    "    metrics=metrics1, \n",
    "    device=DEVICE,\n",
    "    verbose=True,\n",
    ")\n",
    "\n",
    "train_epoch_voc = smp.utils.train.TrainEpoch(\n",
    "    models[\"voc\"], \n",
    "    loss=loss2, \n",
    "    metrics=metrics2, \n",
    "    optimizer=optimizer2,\n",
    "    device=DEVICE,\n",
    "    verbose=True,\n",
    ")\n",
    "\n",
    "valid_epoch_voc = smp.utils.train.ValidEpoch(\n",
    "    models[\"voc\"], \n",
    "    loss=loss2, \n",
    "    metrics=metrics2, \n",
    "    device=DEVICE,\n",
    "    verbose=True,\n",
    ")\n",
    "\n",
    "train_epoch_voc_orig = smp.utils.train.TrainEpoch(\n",
    "    models[\"voc_orig\"], \n",
    "    loss=loss3, \n",
    "    metrics=metrics3, \n",
    "    optimizer=optimizer3,\n",
    "    device=DEVICE,\n",
    "    verbose=True,\n",
    ")\n",
    "\n",
    "valid_epoch_voc_orig = smp.utils.train.ValidEpoch(\n",
    "    models[\"voc_orig\"], \n",
    "    loss=loss3, \n",
    "    metrics=metrics3, \n",
    "    device=DEVICE,\n",
    "    verbose=True,\n",
    ")\n",
    "\n",
    "train_epoch_voc_ext = smp.utils.train.TrainEpoch(\n",
    "    models[\"voc_ext\"], \n",
    "    loss=loss4, \n",
    "    metrics=metrics4, \n",
    "    optimizer=optimizer4,\n",
    "    device=DEVICE,\n",
    "    verbose=True,\n",
    ")\n",
    "\n",
    "valid_epoch_voc_ext = smp.utils.train.ValidEpoch(\n",
    "    models[\"voc_ext\"], \n",
    "    loss=loss4, \n",
    "    metrics=metrics4, \n",
    "    device=DEVICE,\n",
    "    verbose=True,\n",
    ")\n"
   ]
  },
  {
   "cell_type": "code",
   "execution_count": null,
   "metadata": {
    "gradient": {
     "editing": false,
     "id": "12af0298-a19d-42df-9391-06f167c3fc7a",
     "kernelId": "709bc842-7e85-4e5e-9216-b915878d5888"
    }
   },
   "outputs": [],
   "source": [
    "def run_epoch(train_epoch, valid_epoch, train_loader, valid_loader, name, max_scores):\n",
    "    print(name)\n",
    "    train_logs = train_epoch.run(train_loader)\n",
    "    writer.add_scalar('{}/Loss/train'.format(name), train_logs[\"focal_tversky_loss\"], i)\n",
    "    writer.add_scalar('{}/IoU/train'.format(name), train_logs[\"iou_score\"], i)\n",
    "\n",
    "    valid_logs = valid_epoch.run(valid_loader)\n",
    "    writer.add_scalar('{}/Loss/valid'.format(name), valid_logs[\"focal_tversky_loss\"], i)\n",
    "    writer.add_scalar('{}/IoU/valid'.format(name), valid_logs[\"iou_score\"], i)\n",
    "        \n",
    "    if max_scores[name] < valid_logs['iou_score']:\n",
    "        max_scores[name] = valid_logs['iou_score']\n",
    "        torch.save(models[name], log_dir_name + '/best_model_{}.pth'.format(name))\n",
    "        print('{} Model saved!'.format(name))"
   ]
  },
  {
   "cell_type": "code",
   "execution_count": null,
   "metadata": {
    "gradient": {
     "editing": false,
     "id": "876b5246-e82f-430b-8719-51f34a8c75da",
     "kernelId": "709bc842-7e85-4e5e-9216-b915878d5888"
    }
   },
   "outputs": [],
   "source": [
    "max_scores = {\n",
    "    \"mhp\": 0,\n",
    "    \"voc\": 0,\n",
    "    \"voc_orig\": 0,\n",
    "    \"voc_ext\": 0\n",
    "}\n",
    "\n",
    "for i in range(0, 40):\n",
    "    print('\\nEpoch: {}'.format(i))\n",
    "    \n",
    "    run_epoch(train_epoch, valid_epoch, train_loader, valid_loader, \"mhp\", max_scores)\n",
    "    run_epoch(train_epoch_voc, valid_epoch_voc, train_loader_voc, valid_loader_voc, \"voc\", max_scores)\n",
    "    run_epoch(train_epoch_voc_orig, valid_epoch_voc_orig, train_loader_voc_orig, valid_loader_voc_orig, \"voc_orig\", max_scores)    \n",
    "    run_epoch(train_epoch_voc_ext, valid_epoch_voc_ext, train_loader_voc_ext, valid_loader_voc_ext, \"voc_ext\", max_scores)\n",
    "    \n",
    "    if i == 25:\n",
    "        optimizer1.param_groups[0]['lr'] = 1e-5\n",
    "        optimizer2.param_groups[0]['lr'] = 1e-5\n",
    "        optimizer3.param_groups[0]['lr'] = 1e-5\n",
    "        optimizer4.param_groups[0]['lr'] = 1e-5\n",
    "        print('Decrease decoder learning rate to 1e-5!')\n",
    "        "
   ]
  },
  {
   "cell_type": "markdown",
   "metadata": {
    "gradient": {
     "editing": false,
     "id": "6dc6ad1a-aa91-4665-aeaa-1092678f4d6c",
     "kernelId": "709bc842-7e85-4e5e-9216-b915878d5888"
    }
   },
   "source": [
    "## Test best saved model"
   ]
  },
  {
   "cell_type": "code",
   "execution_count": null,
   "metadata": {
    "gradient": {
     "editing": false,
     "id": "23d2b1a0-73a2-4679-8c5e-80a0fcf3c776",
     "kernelId": "709bc842-7e85-4e5e-9216-b915878d5888"
    }
   },
   "outputs": [],
   "source": [
    "# load best saved checkpoint\n",
    "best_model = torch.load(log_dir_name + '/best_model_mhp.pth', map_location=DEVICE)\n",
    "best_model_voc = torch.load(log_dir_name + '/best_model_voc.pth', map_location=DEVICE)\n",
    "best_model_voc_orig = torch.load(log_dir_name + '/best_model_voc_orig.pth', map_location=DEVICE)\n",
    "best_model_voc_ext = torch.load(log_dir_name + '/best_model_voc_ext.pth', map_location=DEVICE)"
   ]
  },
  {
   "cell_type": "code",
   "execution_count": null,
   "metadata": {
    "gradient": {
     "editing": false,
     "id": "03c91770-678f-43cb-a5d0-e49448bae79a",
     "kernelId": "709bc842-7e85-4e5e-9216-b915878d5888"
    }
   },
   "outputs": [],
   "source": [
    "# create test dataset\n",
    "## test_dataset defined \"Load MHP Dataset\" section\n",
    "\n",
    "test_dataloader = DataLoader(test_dataset, batch_size=1, shuffle=False, num_workers=NUM_WORKERS)"
   ]
  },
  {
   "cell_type": "code",
   "execution_count": null,
   "metadata": {
    "gradient": {
     "editing": false,
     "id": "5ba19e77-8ad2-413f-bc1b-8f8ed68efdf0",
     "kernelId": "709bc842-7e85-4e5e-9216-b915878d5888"
    }
   },
   "outputs": [],
   "source": [
    "class CustomValidEpoch(smp.utils.train.ValidEpoch):\n",
    "    def __init__(self, model, loss, metrics, device=DEVICE, verbose=True):\n",
    "         super().__init__(\n",
    "            model=model,\n",
    "            loss=loss,\n",
    "            metrics=metrics,\n",
    "            device=device,\n",
    "        )\n",
    "\n",
    "    def batch_update(self, x, y):\n",
    "        with torch.no_grad():\n",
    "            prediction = self.model.forward(x)  \n",
    "            argmax = torch.argmax(prediction, dim=1)\n",
    "            prediction = torch.where(argmax==15, 1, 0)\n",
    "            prediction = prediction[:, np.newaxis, :, :]\n",
    "            loss = self.loss(prediction, y)\n",
    "        return loss, prediction\n",
    "\n",
    "test_epoch = smp.utils.train.ValidEpoch(model=best_model, loss=loss1, metrics=metrics1, device=DEVICE)\n",
    "\n",
    "test_epoch_voc = smp.utils.train.ValidEpoch(model=best_model_voc, loss=loss2, metrics=metrics2, device=DEVICE)\n",
    "\n",
    "test_epoch_voc_orig = CustomValidEpoch(model=best_model_voc_orig, loss=loss3, metrics=metrics3, device=DEVICE)\n",
    "\n",
    "test_epoch_voc_ext = smp.utils.train.ValidEpoch(model=best_model_voc_ext, loss=loss4, metrics=metrics4, device=DEVICE)"
   ]
  },
  {
   "cell_type": "code",
   "execution_count": null,
   "metadata": {
    "gradient": {
     "editing": false,
     "id": "7dc29dd0-0683-4eba-8a33-50b0efa2e2eb",
     "kernelId": "709bc842-7e85-4e5e-9216-b915878d5888"
    }
   },
   "outputs": [],
   "source": [
    "def run_test_epoch(epoch, dataloader, name):\n",
    "    print(name)\n",
    "    logs = epoch.run(dataloader)\n",
    "\n",
    "    writer.add_scalar('{}/Loss/test'.format(name), logs[\"focal_tversky_loss\"])\n",
    "    writer.add_scalar('{}/IoU/test'.format(name), logs[\"iou_score\"])\n",
    "\n",
    "run_test_epoch(test_epoch, test_dataloader, \"mhp\")\n",
    "run_test_epoch(test_epoch_voc, test_dataloader, \"voc\")\n",
    "run_test_epoch(test_epoch_voc_orig, test_dataloader, \"voc_orig\")\n",
    "run_test_epoch(test_epoch_voc_ext, test_dataloader, \"voc_ext\")\n"
   ]
  },
  {
   "cell_type": "markdown",
   "metadata": {
    "gradient": {
     "editing": false,
     "id": "393ce3a1-b823-4052-a67a-9983a23507ef",
     "kernelId": "709bc842-7e85-4e5e-9216-b915878d5888"
    }
   },
   "source": [
    "### Inference Time Measurement\n",
    "https://deci.ai/resources/blog/measure-inference-time-deep-neural-networks/"
   ]
  },
  {
   "cell_type": "code",
   "execution_count": null,
   "metadata": {
    "gradient": {
     "editing": false,
     "id": "bed1517e-2f93-4d53-bb8d-43c1c50fe521",
     "kernelId": "709bc842-7e85-4e5e-9216-b915878d5888"
    }
   },
   "outputs": [],
   "source": [
    "def measureInferenceTime(model, dataset):\n",
    "    model.to(DEVICE)\n",
    "    repetitions= 100\n",
    "    total_time = 0\n",
    "    with torch.no_grad():\n",
    "        for rep in tqdm(range(repetitions)):\n",
    "            n = np.random.choice(len(dataset))\n",
    "            image, _ = dataset[n]\n",
    "            x_tensor = torch.from_numpy(image).to(DEVICE).unsqueeze(0)\n",
    "            start = timer()\n",
    "            _ = best_model.predict(x_tensor)\n",
    "            end = timer()\n",
    "            elapsed_time = (end-start)/1000\n",
    "            total_time += elapsed_time\n",
    "    inference_time = total_time/repetitions\n",
    "    print('Average inference time:', inference_time)\n",
    "    return inference_time\n"
   ]
  },
  {
   "cell_type": "code",
   "execution_count": null,
   "metadata": {
    "gradient": {
     "editing": false,
     "id": "90eaf6d8-8810-4279-b6ea-65dc18f30ad7",
     "kernelId": "709bc842-7e85-4e5e-9216-b915878d5888"
    }
   },
   "outputs": [],
   "source": [
    "# MHP Model \n",
    "time = measureInferenceTime(best_model, test_dataset)\n",
    "writer.add_scalar('mhp/time', time)\n",
    "# VOC Model\n",
    "time = measureInferenceTime(best_model_voc, test_dataset)\n",
    "writer.add_scalar('voc/time', time)\n",
    "# VOC Orig Model\n",
    "time = measureInferenceTime(best_model_voc_orig, test_dataset)\n",
    "writer.add_scalar('voc_orig/time', time)\n",
    "# VOC Orig Model\n",
    "time = measureInferenceTime(best_model_voc_ext, test_dataset)\n",
    "writer.add_scalar('voc_ext/time', time)\n"
   ]
  },
  {
   "cell_type": "markdown",
   "metadata": {
    "gradient": {
     "editing": false,
     "id": "4437ccc0-ecf3-4252-89b7-ed05d18583cc",
     "kernelId": "709bc842-7e85-4e5e-9216-b915878d5888"
    }
   },
   "source": [
    "## Visualize predictions"
   ]
  },
  {
   "cell_type": "code",
   "execution_count": null,
   "metadata": {
    "gradient": {
     "editing": false,
     "id": "11bb1b26-3f17-4b8f-bfaf-3fae379fe5ce",
     "kernelId": "709bc842-7e85-4e5e-9216-b915878d5888"
    }
   },
   "outputs": [],
   "source": [
    "# test dataset without transformations for image visualization\n",
    "test_dataset_vis = Dataset(\n",
    "    size=1000,\n",
    "    classes=CLASSES,\n",
    ")"
   ]
  },
  {
   "cell_type": "code",
   "execution_count": null,
   "metadata": {
    "gradient": {
     "editing": false,
     "id": "1bbb718c-4611-474b-8111-6623305c7b0b",
     "kernelId": "709bc842-7e85-4e5e-9216-b915878d5888"
    }
   },
   "outputs": [],
   "source": [
    "for i in range(5):\n",
    "    n = np.random.choice(len(test_dataset))\n",
    "    \n",
    "    image_vis = test_dataset_vis[n][0].astype('uint8')\n",
    "    image, gt_mask = test_dataset[n]\n",
    "    \n",
    "    gt_mask = gt_mask.squeeze()\n",
    "\n",
    "    x_tensor = torch.from_numpy(image).to(DEVICE).unsqueeze(0)\n",
    "    \n",
    "    pr_mask = best_model.predict(x_tensor)\n",
    "    pr_mask = (pr_mask.squeeze().cpu().numpy().round())\n",
    "\n",
    "    pr_mask_voc = best_model_voc.predict(x_tensor)\n",
    "    pr_mask_voc = (pr_mask_voc.squeeze().cpu().numpy().round())\n",
    "\n",
    "    pr_mask_voc_orig = best_model_voc_orig.predict(x_tensor)\n",
    "    argmax = torch.argmax(pr_mask_voc_orig, dim=1)\n",
    "    pr_mask_voc_orig = torch.where(argmax==15, 1, 0)\n",
    "    pr_mask_voc_orig = pr_mask_voc_orig[:, np.newaxis, :, :]\n",
    "    pr_mask_voc_orig = (pr_mask_voc_orig.squeeze().cpu().numpy().round())\n",
    "        \n",
    "    visualize(\n",
    "        image=image_vis, \n",
    "        ground_truth_mask=gt_mask, \n",
    "        predicted_mask=pr_mask,\n",
    "        predicted_mask_voc=pr_mask_voc,\n",
    "        predicted_mask_voc_orig=pr_mask_voc_orig,\n",
    "    )"
   ]
  }
 ],
 "metadata": {
  "interpreter": {
   "hash": "74022aae890ba747b3a4262e7e8e47cd7ef92a3925bdc86f96fbcbbd0ea6874b"
  },
  "kernelspec": {
   "display_name": "Python 3 (ipykernel)",
   "language": "python",
   "name": "python3"
  },
  "language_info": {
   "codemirror_mode": {
    "name": "ipython",
    "version": 3
   },
   "file_extension": ".py",
   "mimetype": "text/x-python",
   "name": "python",
   "nbconvert_exporter": "python",
   "pygments_lexer": "ipython3",
   "version": "3.8.12"
  }
 },
 "nbformat": 4,
 "nbformat_minor": 4
}
